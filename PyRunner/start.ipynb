{
 "cells": [
  {
   "cell_type": "code",
   "execution_count": null,
   "outputs": [],
   "source": [
    "# 查看设备信息\n",
    "print(\"=============== GPU ================\")\n",
    "!nvidia-smi\n",
    "print(\"============= PyTorch ==============\")\n",
    "import torch\n",
    "print(torch.__version__)\n",
    "print(\"=============== CPU ================\")\n",
    "!cat /proc/cpuinfo | grep model\\ name\n",
    "print(\"=============== DRAM ===============\")\n",
    "!cat /proc/meminfo | grep MemTotal\n"
   ],
   "metadata": {
    "collapsed": false,
    "pycharm": {
     "name": "#%%\n"
    }
   }
  },
  {
   "cell_type": "code",
   "execution_count": null,
   "outputs": [],
   "source": [
    "# 启动任务功能\n",
    "!python3 -u popen_runner.py"
   ],
   "metadata": {
    "collapsed": false,
    "pycharm": {
     "name": "#%%\n"
    }
   }
  }
 ],
 "metadata": {
  "kernelspec": {
   "display_name": "Python 3",
   "language": "python",
   "name": "python3"
  },
  "language_info": {
   "codemirror_mode": {
    "name": "ipython",
    "version": 2
   },
   "file_extension": ".py",
   "mimetype": "text/x-python",
   "name": "python",
   "nbconvert_exporter": "python",
   "pygments_lexer": "ipython2",
   "version": "2.7.6"
  }
 },
 "nbformat": 4,
 "nbformat_minor": 0
}